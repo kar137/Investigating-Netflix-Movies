{
 "cells": [
  {
   "cell_type": "markdown",
   "id": "d82dca94",
   "metadata": {},
   "source": [
    "## Project Scenario\n",
    "Netflix! What started in 1997 as a DVD rental service has now grown into one of the most prominent entertainment and media companies in the world.\n",
    "\n",
    "With its vast collection of movies and TV shows, Netflix presents an ideal opportunity to sharpen your exploratory data analysis skills and explore the entertainment landscape.\n",
    "\n",
    "You work for a creative agency specializing in nostalgic content. Your task is to research movies released in the 1990s. You’ll dive into Netflix's extensive data, perform exploratory data analysis, and uncover trends that defined this iconic decade of filmmaking.\n",
    "\n",
    "You’ve been provided with the dataset netflix_data.csv, along with a detailed table explaining the column names and descriptions. Feel free to experiment further once you've submitted your analysis!"
   ]
  },
  {
   "cell_type": "markdown",
   "id": "98853940",
   "metadata": {},
   "source": []
  }
 ],
 "metadata": {
  "kernelspec": {
   "display_name": "base",
   "language": "python",
   "name": "python3"
  },
  "language_info": {
   "name": "python",
   "version": "3.12.7"
  }
 },
 "nbformat": 4,
 "nbformat_minor": 5
}
